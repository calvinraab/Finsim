{
 "cells": [
  {
   "cell_type": "markdown",
   "metadata": {},
   "source": [
    "# Notebook For Tax Estimation Related Work"
   ]
  },
  {
   "cell_type": "markdown",
   "metadata": {},
   "source": [
    "## Pre-Tax Deductions"
   ]
  },
  {
   "cell_type": "code",
   "execution_count": 6,
   "metadata": {},
   "outputs": [],
   "source": [
    "def apply_pre_tax_deductions(gross_income, pre_tax_401k, hsa_contribution):\n",
    "    \"\"\"\n",
    "    Reduces taxable income by subtracting 401(k) and HSA contributions, while enforcing IRS limits.\n",
    "    \n",
    "    Parameters:\n",
    "        gross_income (float): Total salary before taxes.\n",
    "        pre_tax_401k (float): % of salary contributed to 401(k).\n",
    "        hsa_contribution (float): Annual HSA contribution.\n",
    "    \n",
    "    Returns:\n",
    "        float: Adjusted taxable income after deductions.\n",
    "    \"\"\"\n",
    "    # **IRS Contribution Limits for 2024**\n",
    "    max_401k_contribution = 23500  # Max allowed for 401(k) in 2024\n",
    "    max_hsa_limit = 4300  # Default to single limit (family limit is $8,300)\n",
    "\n",
    "    # **Calculate 401(k) Contribution**\n",
    "    personal_401k_contribution = min(gross_income * pre_tax_401k, max_401k_contribution)\n",
    "\n",
    "    # **Calculate HSA Contribution**\n",
    "    hsa_contribution = min(hsa_contribution, max_hsa_limit)\n",
    "\n",
    "    # **Subtract Pre-Tax Contributions from Gross Income**\n",
    "    taxable_income = gross_income - personal_401k_contribution - hsa_contribution\n",
    "\n",
    "    return max(0, taxable_income)  # Ensure no negative taxable income\n"
   ]
  },
  {
   "cell_type": "code",
   "execution_count": 8,
   "metadata": {},
   "outputs": [
    {
     "name": "stdout",
     "output_type": "stream",
     "text": [
      "Taxable Income After 401(k) & HSA Contributions: $104,000.00\n"
     ]
    }
   ],
   "source": [
    "gross_salary = 120000  # Annual salary\n",
    "pre_tax_401k_rate = 0.10  # 10% 401(k) contribution\n",
    "hsa_contribution = 4000  # Contributing $4,000 to HSA\n",
    "\n",
    "adjusted_income = apply_pre_tax_deductions(gross_salary, pre_tax_401k_rate, hsa_contribution)\n",
    "print(f\"Taxable Income After 401(k) & HSA Contributions: ${adjusted_income:,.2f}\")"
   ]
  },
  {
   "cell_type": "markdown",
   "metadata": {},
   "source": [
    "## Federal Income Tax Brackets\n",
    "Link to source: https://www.irs.gov/filing/federal-income-tax-rates-and-brackets"
   ]
  },
  {
   "cell_type": "code",
   "execution_count": 9,
   "metadata": {},
   "outputs": [],
   "source": [
    "TAX_BRACKETS = {\n",
    "    \"single\": [\n",
    "        (0, 11600, 0.10),\n",
    "        (11601, 47150, 0.12),\n",
    "        (47151, 100525, 0.22),\n",
    "        (100526, 191950, 0.24),\n",
    "        (191951, 243725, 0.32),\n",
    "        (243726, 609350, 0.35),\n",
    "        (609351, float(\"inf\"), 0.37)\n",
    "    ],\n",
    "    \"married_jointly\": [\n",
    "        (0, 23200, 0.10),\n",
    "        (23201, 94300, 0.12),\n",
    "        (94301, 201050, 0.22),\n",
    "        (201051, 383900, 0.24),\n",
    "        (383901, 487450, 0.32),\n",
    "        (487451, 731200, 0.35),\n",
    "        (731201, float(\"inf\"), 0.37)\n",
    "    ],\n",
    "    \"married_separately\": [\n",
    "        (0, 11600, 0.10),\n",
    "        (11601, 47150, 0.12),\n",
    "        (47151, 100525, 0.22),\n",
    "        (100526, 191950, 0.24),\n",
    "        (191951, 243725, 0.32),\n",
    "        (243726, 365600, 0.35),\n",
    "        (365601, float(\"inf\"), 0.37)\n",
    "    ],\n",
    "    \"head_of_household\": [\n",
    "        (0, 16550, 0.10),\n",
    "        (16551, 63100, 0.12),\n",
    "        (63101, 100500, 0.22),\n",
    "        (100501, 191950, 0.24),\n",
    "        (191951, 243700, 0.32),\n",
    "        (243701, 609350, 0.35),\n",
    "        (609351, float(\"inf\"), 0.37)\n",
    "    ],\n",
    "}\n"
   ]
  },
  {
   "cell_type": "code",
   "execution_count": 14,
   "metadata": {},
   "outputs": [],
   "source": [
    "def calculate_federal_taxes(taxable_income, filing_status):\n",
    "    \"\"\"\n",
    "    Calculates federal income tax based on taxable income and filing status.\n",
    "\n",
    "    Parameters:\n",
    "        taxable_income (float): Income after deductions.\n",
    "        filing_status (str): One of [\"single\", \"married_jointly\", \"married_separately\", \"head_of_household\"].\n",
    "\n",
    "    Returns:\n",
    "        float: Total federal tax owed.\n",
    "    \"\"\"\n",
    "    brackets = TAX_BRACKETS.get(filing_status, TAX_BRACKETS[\"single\"])  # Default to single if invalid\n",
    "\n",
    "    federal_taxes = 0\n",
    "    for lower, upper, rate in brackets:\n",
    "        if taxable_income > lower:\n",
    "            income_in_bracket = min(taxable_income, upper) - lower\n",
    "            federal_taxes += income_in_bracket * rate\n",
    "        else:\n",
    "            break\n",
    "\n",
    "    return federal_taxes\n"
   ]
  },
  {
   "cell_type": "code",
   "execution_count": 15,
   "metadata": {},
   "outputs": [
    {
     "name": "stdout",
     "output_type": "stream",
     "text": [
      "Federal Tax Owed: $21,841.92\n"
     ]
    }
   ],
   "source": [
    "# Example: Single person with $120,000 taxable income\n",
    "taxable_income = 120000\n",
    "filing_status = \"single\"\n",
    "\n",
    "federal_tax = calculate_federal_taxes(taxable_income, filing_status)\n",
    "print(f\"Federal Tax Owed: ${federal_tax:,.2f}\")\n"
   ]
  },
  {
   "cell_type": "markdown",
   "metadata": {},
   "source": []
  },
  {
   "cell_type": "code",
   "execution_count": null,
   "metadata": {},
   "outputs": [],
   "source": []
  }
 ],
 "metadata": {
  "kernelspec": {
   "display_name": "playground_env",
   "language": "python",
   "name": "python3"
  },
  "language_info": {
   "codemirror_mode": {
    "name": "ipython",
    "version": 3
   },
   "file_extension": ".py",
   "mimetype": "text/x-python",
   "name": "python",
   "nbconvert_exporter": "python",
   "pygments_lexer": "ipython3",
   "version": "3.13.0"
  }
 },
 "nbformat": 4,
 "nbformat_minor": 2
}
